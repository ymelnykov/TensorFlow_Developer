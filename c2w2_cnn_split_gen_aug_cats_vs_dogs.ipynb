{
  "metadata": {
    "colab": {
      "provenance": [],
      "gpuType": "T4"
    },
    "kernelspec": {
      "name": "python3",
      "display_name": "Python 3"
    },
    "language_info": {
      "name": "python",
      "version": "3.10.12",
      "mimetype": "text/x-python",
      "codemirror_mode": {
        "name": "ipython",
        "version": 3
      },
      "pygments_lexer": "ipython3",
      "nbconvert_exporter": "python",
      "file_extension": ".py"
    },
    "accelerator": "GPU"
  },
  "nbformat_minor": 0,
  "nbformat": 4,
  "cells": [
    {
      "cell_type": "markdown",
      "source": [
        "# Tackle Overfitting with Data Augmentation"
      ],
      "metadata": {
        "id": "_UCKtXj_7NFE"
      }
    },
    {
      "cell_type": "code",
      "source": [
        "import os\n",
        "import shutil\n",
        "import zipfile\n",
        "import random\n",
        "import tensorflow as tf\n",
        "import matplotlib.pyplot as plt\n",
        "from tensorflow.keras.preprocessing.image import ImageDataGenerator\n",
        "from tensorflow.keras.layers import Conv2D, MaxPooling2D, Flatten, Dense, Dropout"
      ],
      "metadata": {
        "id": "gpDy4qdF6PxX",
        "execution": {
          "iopub.status.busy": "2023-10-24T11:12:31.001762Z",
          "iopub.execute_input": "2023-10-24T11:12:31.002300Z",
          "iopub.status.idle": "2023-10-24T11:12:38.814901Z",
          "shell.execute_reply.started": "2023-10-24T11:12:31.002272Z",
          "shell.execute_reply": "2023-10-24T11:12:38.814113Z"
        },
        "trusted": true
      },
      "execution_count": null,
      "outputs": []
    },
    {
      "cell_type": "markdown",
      "source": [
        "## Getting and checking the data"
      ],
      "metadata": {
        "id": "beQb8OZj73CA"
      }
    },
    {
      "cell_type": "code",
      "source": [
        "# Get a dataset of cats and dogs images\n",
        "!wget --no-check-certificate \\\n",
        "    \"https://download.microsoft.com/download/3/E/1/3E1C3F21-ECDB-4869-8368-6DEBA77B919F/kagglecatsanddogs_5340.zip\" \\\n",
        "    -O \"/tmp/cats-and-dogs.zip\"\n"
      ],
      "metadata": {
        "colab": {
          "base_uri": "https://localhost:8080/"
        },
        "id": "1EUlNhU17Wiu",
        "outputId": "db9e3274-80e4-4ba5-8bc3-17bd4a6ffbfa",
        "execution": {
          "iopub.status.busy": "2023-10-24T11:12:38.816577Z",
          "iopub.execute_input": "2023-10-24T11:12:38.817123Z",
          "iopub.status.idle": "2023-10-24T11:12:46.983814Z",
          "shell.execute_reply.started": "2023-10-24T11:12:38.817096Z",
          "shell.execute_reply": "2023-10-24T11:12:46.982850Z"
        },
        "trusted": true
      },
      "execution_count": null,
      "outputs": [
        {
          "output_type": "stream",
          "name": "stdout",
          "text": [
            "--2023-10-25 09:52:43--  https://download.microsoft.com/download/3/E/1/3E1C3F21-ECDB-4869-8368-6DEBA77B919F/kagglecatsanddogs_5340.zip\n",
            "Resolving download.microsoft.com (download.microsoft.com)... 23.36.245.101, 2a02:26f0:fe00:28f::317f, 2a02:26f0:fe00:295::317f\n",
            "Connecting to download.microsoft.com (download.microsoft.com)|23.36.245.101|:443... connected.\n",
            "HTTP request sent, awaiting response... 200 OK\n",
            "Length: 824887076 (787M) [application/octet-stream]\n",
            "Saving to: ‘/tmp/cats-and-dogs.zip’\n",
            "\n",
            "/tmp/cats-and-dogs. 100%[===================>] 786.67M   161MB/s    in 5.0s    \n",
            "\n",
            "2023-10-25 09:52:48 (159 MB/s) - ‘/tmp/cats-and-dogs.zip’ saved [824887076/824887076]\n",
            "\n"
          ]
        }
      ]
    },
    {
      "cell_type": "code",
      "source": [
        "# Extract images\n",
        "zip_file = '/tmp/cats-and-dogs.zip'\n",
        "zip_ref = zipfile.ZipFile(zip_file, 'r')\n",
        "zip_ref.extractall('/tmp')\n",
        "zip_ref.close()"
      ],
      "metadata": {
        "id": "PQngB5sK9KlN",
        "execution": {
          "iopub.status.busy": "2023-10-24T11:12:46.985191Z",
          "iopub.execute_input": "2023-10-24T11:12:46.985511Z",
          "iopub.status.idle": "2023-10-24T11:12:54.313323Z",
          "shell.execute_reply.started": "2023-10-24T11:12:46.985484Z",
          "shell.execute_reply": "2023-10-24T11:12:54.312501Z"
        },
        "trusted": true
      },
      "execution_count": null,
      "outputs": []
    },
    {
      "cell_type": "code",
      "source": [
        "# Check the directory structure\n",
        "for root, dirs, files in os.walk('/tmp'):\n",
        " for dir in dirs:\n",
        "    print(os.path.join(root, dir))\n"
      ],
      "metadata": {
        "colab": {
          "base_uri": "https://localhost:8080/"
        },
        "id": "nPDyQUZY9YT9",
        "outputId": "377532da-38bd-49bb-ab32-a92576460ace",
        "execution": {
          "iopub.status.busy": "2023-10-24T11:12:54.315360Z",
          "iopub.execute_input": "2023-10-24T11:12:54.315657Z",
          "iopub.status.idle": "2023-10-24T11:12:54.356218Z",
          "shell.execute_reply.started": "2023-10-24T11:12:54.315632Z",
          "shell.execute_reply": "2023-10-24T11:12:54.355339Z"
        },
        "trusted": true
      },
      "execution_count": null,
      "outputs": [
        {
          "output_type": "stream",
          "name": "stdout",
          "text": [
            "/tmp/initgoogle_syslog_dir.0\n",
            "/tmp/pyright-251-jw7rI8hCL95G\n",
            "/tmp/pyright-251-8FEDdQtEAIH2\n",
            "/tmp/python-languageserver-cancellation\n",
            "/tmp/PetImages\n",
            "/tmp/python-languageserver-cancellation/eb873809d72191c49485d6f9c9edf511af6db42f7a\n",
            "/tmp/PetImages/Dog\n",
            "/tmp/PetImages/Cat\n"
          ]
        }
      ]
    },
    {
      "cell_type": "code",
      "source": [
        "# Check a number of images\n",
        "cats_dir='/tmp/PetImages/Cat'\n",
        "dogs_dir='/tmp/PetImages/Dog'\n",
        "cats_files = os.listdir(cats_dir)\n",
        "dogs_files = os.listdir(dogs_dir)\n",
        "print(f'There are {len(cats_files)} cats images and {len(dogs_files)} dogs images.')"
      ],
      "metadata": {
        "colab": {
          "base_uri": "https://localhost:8080/"
        },
        "id": "aPeZQFuRCRDa",
        "outputId": "b4be181e-c0bf-482a-93c3-30c69759aa86",
        "execution": {
          "iopub.status.busy": "2023-10-24T11:12:54.357365Z",
          "iopub.execute_input": "2023-10-24T11:12:54.357649Z",
          "iopub.status.idle": "2023-10-24T11:12:54.376144Z",
          "shell.execute_reply.started": "2023-10-24T11:12:54.357625Z",
          "shell.execute_reply": "2023-10-24T11:12:54.375313Z"
        },
        "trusted": true
      },
      "execution_count": null,
      "outputs": [
        {
          "output_type": "stream",
          "name": "stdout",
          "text": [
            "There are 12501 cats images and 12501 dogs images.\n"
          ]
        }
      ]
    },
    {
      "cell_type": "code",
      "source": [
        "# Defina a root directory\n",
        "root_dir = '/tmp/cats-v-dogs'\n",
        "\n",
        "if os.path.exists(root_dir):\n",
        "  shutil.rmtree(root_dir)\n",
        "\n",
        "# Make train and validation directories\n",
        "train_dogs_dir = os.path.join(root_dir, 'train/dogs')\n",
        "os.makedirs(train_dogs_dir)\n",
        "train_cats_dir = os.path.join(root_dir, 'train/cats')\n",
        "os.makedirs(train_cats_dir)\n",
        "val_dogs_dir = os.path.join(root_dir, 'val/dogs')\n",
        "os.makedirs(val_dogs_dir)\n",
        "val_cats_dir = os.path.join(root_dir, 'val/cats')\n",
        "os.makedirs(val_cats_dir)"
      ],
      "metadata": {
        "id": "e5Lc3DNjDwLU",
        "execution": {
          "iopub.status.busy": "2023-10-24T11:12:54.377160Z",
          "iopub.execute_input": "2023-10-24T11:12:54.377422Z",
          "iopub.status.idle": "2023-10-24T11:12:54.384659Z",
          "shell.execute_reply.started": "2023-10-24T11:12:54.377400Z",
          "shell.execute_reply": "2023-10-24T11:12:54.383758Z"
        },
        "trusted": true
      },
      "execution_count": null,
      "outputs": []
    },
    {
      "cell_type": "code",
      "source": [
        "# Check the directory structure created\n",
        "for root, dirs, files in os.walk(root_dir):\n",
        "  for dir in dirs:\n",
        "    print(os.path.join(root, dir))"
      ],
      "metadata": {
        "colab": {
          "base_uri": "https://localhost:8080/"
        },
        "id": "lZw3SP806BFq",
        "outputId": "3b109a6f-6e9a-4eb4-d220-f17854e268f2",
        "execution": {
          "iopub.status.busy": "2023-10-24T11:12:54.385753Z",
          "iopub.execute_input": "2023-10-24T11:12:54.386054Z",
          "iopub.status.idle": "2023-10-24T11:12:54.397627Z",
          "shell.execute_reply.started": "2023-10-24T11:12:54.386030Z",
          "shell.execute_reply": "2023-10-24T11:12:54.396823Z"
        },
        "trusted": true
      },
      "execution_count": null,
      "outputs": [
        {
          "output_type": "stream",
          "name": "stdout",
          "text": [
            "/tmp/cats-v-dogs/train\n",
            "/tmp/cats-v-dogs/val\n",
            "/tmp/cats-v-dogs/train/dogs\n",
            "/tmp/cats-v-dogs/train/cats\n",
            "/tmp/cats-v-dogs/val/dogs\n",
            "/tmp/cats-v-dogs/val/cats\n"
          ]
        }
      ]
    },
    {
      "cell_type": "markdown",
      "source": [
        "## Splitting the data"
      ],
      "metadata": {
        "id": "lFe8v8MR8J7f"
      }
    },
    {
      "cell_type": "code",
      "source": [
        "# Split data to train data and validation data\n",
        "def split_data(source_dir, train_dir, val_dir, train_size):\n",
        "  files = os.listdir(source_dir)\n",
        "  train_files = random.sample(files, int(len(files)*train_size))\n",
        "  val_files = [f for f in files if f not in train_files]\n",
        "\n",
        "  # Copy files\n",
        "  def copy_files(file_list, s_dir, d_dir):\n",
        "    for f in file_list:\n",
        "      s_path = os.path.join(s_dir, f)\n",
        "      d_path = os.path.join(d_dir, f)\n",
        "      if os.path.getsize(s_path) != 0:\n",
        "        shutil.copyfile(s_path, d_path)\n",
        "      else:\n",
        "        print(f'File {f} has a zero size, so ignoring')\n",
        "\n",
        "  copy_files(train_files, source_dir, train_dir)\n",
        "  copy_files(val_files, source_dir, val_dir)\n"
      ],
      "metadata": {
        "id": "01ZGLYBV4BqV",
        "execution": {
          "iopub.status.busy": "2023-10-24T11:12:54.398648Z",
          "iopub.execute_input": "2023-10-24T11:12:54.399500Z",
          "iopub.status.idle": "2023-10-24T11:12:54.409696Z",
          "shell.execute_reply.started": "2023-10-24T11:12:54.399475Z",
          "shell.execute_reply": "2023-10-24T11:12:54.408800Z"
        },
        "trusted": true
      },
      "execution_count": null,
      "outputs": []
    },
    {
      "cell_type": "code",
      "source": [
        "# Empty directories in case they are not empty before copying files\n",
        "def empty_dir(dir):\n",
        "  if len(os.listdir(dir)) > 0:\n",
        "    for file in os.scandir(dir):\n",
        "      os.remove(file.path)\n",
        "\n",
        "for dir in (train_cats_dir, val_cats_dir, train_dogs_dir, val_dogs_dir):\n",
        "  empty_dir(dir)\n",
        "\n",
        "# Split data and copy files to their respective directories\n",
        "train_size = 0.9\n",
        "split_data(cats_dir, train_cats_dir, val_cats_dir, train_size)\n",
        "split_data(dogs_dir, train_dogs_dir, val_dogs_dir, train_size)\n",
        "\n",
        "# Check the data split\n",
        "print(f'Original dataset has {len(os.listdir(cats_dir))} images of cats and {len(os.listdir(dogs_dir))} images of dogs.')\n",
        "print(f'There are {len(os.listdir(train_cats_dir))} images of cats for training and {len(os.listdir(val_cats_dir))} images of cats for validation now.')\n",
        "print(f'There are {len(os.listdir(train_dogs_dir))} images of dogs for training and {len(os.listdir(val_dogs_dir))} images of dogs for validation now.')"
      ],
      "metadata": {
        "colab": {
          "base_uri": "https://localhost:8080/"
        },
        "id": "Fyzncsm_EiEF",
        "outputId": "48699903-35a8-4046-b0a9-6e8b82bc9182",
        "execution": {
          "iopub.status.busy": "2023-10-24T12:14:21.070086Z",
          "iopub.execute_input": "2023-10-24T12:14:21.070439Z",
          "iopub.status.idle": "2023-10-24T12:14:29.304183Z",
          "shell.execute_reply.started": "2023-10-24T12:14:21.070411Z",
          "shell.execute_reply": "2023-10-24T12:14:29.303084Z"
        },
        "trusted": true
      },
      "execution_count": null,
      "outputs": [
        {
          "output_type": "stream",
          "name": "stdout",
          "text": [
            "File 666.jpg has a zero size, so ignoring\n",
            "File 11702.jpg has a zero size, so ignoring\n",
            "Original dataset has 12501 images of cats and 12501 images of dogs.\n",
            "There are 11249 images of cats for training and 1251 images of cats for validation now.\n",
            "There are 11249 images of dogs for training and 1251 images of dogs for validation now.\n"
          ]
        }
      ]
    },
    {
      "cell_type": "markdown",
      "source": [
        "## Creating train and validation image data generators"
      ],
      "metadata": {
        "id": "4XADvVNr8Qhs"
      }
    },
    {
      "cell_type": "code",
      "source": [
        "# Build train and validation image data generators\n",
        "def get_image_data_generator(dir, train=True):\n",
        "  if train:\n",
        "    datagen = ImageDataGenerator(\n",
        "        rescale=1/255,\n",
        "        rotation_range=40,\n",
        "        width_shift_range=0.2,\n",
        "        height_shift_range=0.2,\n",
        "        zoom_range=0.2,\n",
        "        shear_range=0.2,\n",
        "        horizontal_flip=True,\n",
        "        fill_mode='nearest'\n",
        "    )\n",
        "  else:\n",
        "    datagen = ImageDataGenerator(rescale=1/255)\n",
        "\n",
        "  generator = datagen.flow_from_directory(\n",
        "      directory=dir,\n",
        "      target_size=(150,150),\n",
        "      batch_size=25,\n",
        "      class_mode='binary'\n",
        "  )\n",
        "  return generator\n"
      ],
      "metadata": {
        "id": "Z9wma0KDM76J",
        "execution": {
          "iopub.status.busy": "2023-10-24T12:14:29.306083Z",
          "iopub.execute_input": "2023-10-24T12:14:29.306807Z",
          "iopub.status.idle": "2023-10-24T12:14:29.313499Z",
          "shell.execute_reply.started": "2023-10-24T12:14:29.306772Z",
          "shell.execute_reply": "2023-10-24T12:14:29.312606Z"
        },
        "trusted": true
      },
      "execution_count": null,
      "outputs": []
    },
    {
      "cell_type": "code",
      "source": [
        "# Get train and validation image data generators\n",
        "train_generator = get_image_data_generator(os.path.join(root_dir, 'train'))\n",
        "val_generator = get_image_data_generator(os.path.join(root_dir, 'val'), train=False)"
      ],
      "metadata": {
        "colab": {
          "base_uri": "https://localhost:8080/"
        },
        "id": "FFuey23jPUb0",
        "outputId": "7452e48c-0a57-41ab-b98e-c004895c5841",
        "execution": {
          "iopub.status.busy": "2023-10-24T12:14:29.314458Z",
          "iopub.execute_input": "2023-10-24T12:14:29.314743Z",
          "iopub.status.idle": "2023-10-24T12:14:30.195184Z",
          "shell.execute_reply.started": "2023-10-24T12:14:29.314719Z",
          "shell.execute_reply": "2023-10-24T12:14:30.194390Z"
        },
        "trusted": true
      },
      "execution_count": null,
      "outputs": [
        {
          "output_type": "stream",
          "name": "stdout",
          "text": [
            "Found 22496 images belonging to 2 classes.\n",
            "Found 2502 images belonging to 2 classes.\n"
          ]
        }
      ]
    },
    {
      "cell_type": "markdown",
      "source": [
        "## Building and training the model"
      ],
      "metadata": {
        "id": "4jFD5OLM8cyy"
      }
    },
    {
      "cell_type": "code",
      "source": [
        "# Build a model\n",
        "def build_model():\n",
        "  model = tf.keras.models.Sequential([\n",
        "      Conv2D(32, (3,3), activation='relu', input_shape=(150,150,3)),\n",
        "      MaxPooling2D(2,2),\n",
        "      Conv2D(64, (3,3), activation='relu'),\n",
        "      MaxPooling2D(2,2),\n",
        "      Conv2D(128, (3,3), activation='relu'),\n",
        "      MaxPooling2D(2,2),\n",
        "      Flatten(),\n",
        "      Dense(512, activation='relu'),\n",
        "      Dropout(0.2),\n",
        "      Dense(1)\n",
        "  ])\n",
        "  loss = tf.keras.losses.BinaryCrossentropy(from_logits=True)\n",
        "  model.compile(loss=loss, optimizer='adam', metrics=['accuracy'])\n",
        "  return model"
      ],
      "metadata": {
        "id": "8P5xlzhAQjX7",
        "execution": {
          "iopub.status.busy": "2023-10-24T12:14:30.196927Z",
          "iopub.execute_input": "2023-10-24T12:14:30.197226Z",
          "iopub.status.idle": "2023-10-24T12:14:30.204270Z",
          "shell.execute_reply.started": "2023-10-24T12:14:30.197200Z",
          "shell.execute_reply": "2023-10-24T12:14:30.203322Z"
        },
        "trusted": true
      },
      "execution_count": null,
      "outputs": []
    },
    {
      "cell_type": "code",
      "source": [
        "# Check the model summary\n",
        "model = build_model()\n",
        "model.summary()"
      ],
      "metadata": {
        "colab": {
          "base_uri": "https://localhost:8080/"
        },
        "id": "8NAkXv0XSxUI",
        "outputId": "0dff5f1a-7ca4-4cc8-9e7a-730d55565e85",
        "execution": {
          "iopub.status.busy": "2023-10-24T12:14:30.205390Z",
          "iopub.execute_input": "2023-10-24T12:14:30.205659Z",
          "iopub.status.idle": "2023-10-24T12:14:30.342511Z",
          "shell.execute_reply.started": "2023-10-24T12:14:30.205635Z",
          "shell.execute_reply": "2023-10-24T12:14:30.341487Z"
        },
        "trusted": true
      },
      "execution_count": null,
      "outputs": [
        {
          "output_type": "stream",
          "name": "stdout",
          "text": [
            "Model: \"sequential\"\n",
            "_________________________________________________________________\n",
            " Layer (type)                Output Shape              Param #   \n",
            "=================================================================\n",
            " conv2d (Conv2D)             (None, 148, 148, 32)      896       \n",
            "                                                                 \n",
            " max_pooling2d (MaxPooling2  (None, 74, 74, 32)        0         \n",
            " D)                                                              \n",
            "                                                                 \n",
            " conv2d_1 (Conv2D)           (None, 72, 72, 64)        18496     \n",
            "                                                                 \n",
            " max_pooling2d_1 (MaxPoolin  (None, 36, 36, 64)        0         \n",
            " g2D)                                                            \n",
            "                                                                 \n",
            " conv2d_2 (Conv2D)           (None, 34, 34, 128)       73856     \n",
            "                                                                 \n",
            " max_pooling2d_2 (MaxPoolin  (None, 17, 17, 128)       0         \n",
            " g2D)                                                            \n",
            "                                                                 \n",
            " flatten (Flatten)           (None, 36992)             0         \n",
            "                                                                 \n",
            " dense (Dense)               (None, 512)               18940416  \n",
            "                                                                 \n",
            " dropout (Dropout)           (None, 512)               0         \n",
            "                                                                 \n",
            " dense_1 (Dense)             (None, 1)                 513       \n",
            "                                                                 \n",
            "=================================================================\n",
            "Total params: 19034177 (72.61 MB)\n",
            "Trainable params: 19034177 (72.61 MB)\n",
            "Non-trainable params: 0 (0.00 Byte)\n",
            "_________________________________________________________________\n"
          ]
        }
      ]
    },
    {
      "cell_type": "code",
      "source": [
        "# Train the model\n",
        "history = model.fit(\n",
        "    train_generator,\n",
        "    validation_data=val_generator,\n",
        "    epochs=15)"
      ],
      "metadata": {
        "colab": {
          "base_uri": "https://localhost:8080/"
        },
        "id": "ZWRfWHa8TLoc",
        "outputId": "7e243059-ba56-4533-9afc-3234663ce655",
        "execution": {
          "iopub.status.busy": "2023-10-24T12:14:30.344360Z",
          "iopub.execute_input": "2023-10-24T12:14:30.344628Z",
          "iopub.status.idle": "2023-10-24T12:54:29.312854Z",
          "shell.execute_reply.started": "2023-10-24T12:14:30.344604Z",
          "shell.execute_reply": "2023-10-24T12:54:29.312070Z"
        },
        "trusted": true
      },
      "execution_count": null,
      "outputs": [
        {
          "output_type": "stream",
          "name": "stdout",
          "text": [
            "Epoch 1/15\n",
            "515/900 [================>.............] - ETA: 1:14 - loss: 0.6823 - accuracy: 0.5226"
          ]
        },
        {
          "output_type": "stream",
          "name": "stderr",
          "text": [
            "/usr/local/lib/python3.10/dist-packages/PIL/TiffImagePlugin.py:858: UserWarning: Truncated File Read\n",
            "  warnings.warn(str(msg))\n"
          ]
        },
        {
          "output_type": "stream",
          "name": "stdout",
          "text": [
            "900/900 [==============================] - 197s 202ms/step - loss: 0.6673 - accuracy: 0.5491 - val_loss: 0.5788 - val_accuracy: 0.6415\n",
            "Epoch 2/15\n",
            "900/900 [==============================] - 183s 203ms/step - loss: 0.5934 - accuracy: 0.6577 - val_loss: 0.5108 - val_accuracy: 0.7130\n",
            "Epoch 3/15\n",
            "900/900 [==============================] - 180s 200ms/step - loss: 0.5603 - accuracy: 0.6929 - val_loss: 0.5320 - val_accuracy: 0.7626\n",
            "Epoch 4/15\n",
            "900/900 [==============================] - 182s 202ms/step - loss: 0.5330 - accuracy: 0.7148 - val_loss: 0.4980 - val_accuracy: 0.7726\n",
            "Epoch 5/15\n",
            "900/900 [==============================] - 181s 201ms/step - loss: 0.5130 - accuracy: 0.7310 - val_loss: 0.4199 - val_accuracy: 0.7654\n",
            "Epoch 6/15\n",
            "900/900 [==============================] - 180s 200ms/step - loss: 0.4868 - accuracy: 0.7537 - val_loss: 0.3862 - val_accuracy: 0.8213\n",
            "Epoch 7/15\n",
            "900/900 [==============================] - 180s 200ms/step - loss: 0.4673 - accuracy: 0.7696 - val_loss: 0.3806 - val_accuracy: 0.8110\n",
            "Epoch 8/15\n",
            "900/900 [==============================] - 181s 201ms/step - loss: 0.4399 - accuracy: 0.7855 - val_loss: 0.3907 - val_accuracy: 0.8197\n",
            "Epoch 9/15\n",
            "900/900 [==============================] - 180s 200ms/step - loss: 0.4266 - accuracy: 0.7924 - val_loss: 0.3452 - val_accuracy: 0.8353\n",
            "Epoch 10/15\n",
            "900/900 [==============================] - 183s 203ms/step - loss: 0.4112 - accuracy: 0.8009 - val_loss: 0.3774 - val_accuracy: 0.8233\n",
            "Epoch 11/15\n",
            "900/900 [==============================] - 183s 204ms/step - loss: 0.3934 - accuracy: 0.8131 - val_loss: 0.3303 - val_accuracy: 0.8441\n",
            "Epoch 12/15\n",
            "900/900 [==============================] - 182s 202ms/step - loss: 0.3838 - accuracy: 0.8204 - val_loss: 0.3450 - val_accuracy: 0.8313\n",
            "Epoch 13/15\n",
            "900/900 [==============================] - 181s 201ms/step - loss: 0.3717 - accuracy: 0.8266 - val_loss: 0.2965 - val_accuracy: 0.8617\n",
            "Epoch 14/15\n",
            "900/900 [==============================] - 182s 202ms/step - loss: 0.3739 - accuracy: 0.8254 - val_loss: 0.3472 - val_accuracy: 0.8641\n",
            "Epoch 15/15\n",
            "900/900 [==============================] - 179s 199ms/step - loss: 0.3533 - accuracy: 0.8371 - val_loss: 0.2997 - val_accuracy: 0.8657\n"
          ]
        }
      ]
    },
    {
      "cell_type": "code",
      "source": [
        "# Plot the model training history\n",
        "from math import ceil\n",
        "\n",
        "def plot_history(params: list[str], val=True):\n",
        "  num_rows = ceil(len(params)/2)\n",
        "  epochs = [epoch for epoch in range(1, len(history.history[params[0]])+1)]\n",
        "  plt.figure(figsize=(12, 6*num_rows))\n",
        "  for i in range(len(params)):\n",
        "    s = plt.subplot(num_rows, 2, i+1)\n",
        "    par = params[i]\n",
        "    s.plot(epochs, history.history[par], label=f'Training {par}')\n",
        "    #s.set_xticks(epochs)\n",
        "    s.set_xlabel('Epochs')\n",
        "    s.set_ylabel(par.capitalize())\n",
        "    if val:\n",
        "      s.plot(epochs, history.history[f'val_{par}'], label=f'Validation {par}')\n",
        "      s.set_title(f'Training and validation {par}')\n",
        "    else:\n",
        "      s.set_title(f'Training {par}')\n",
        "    s.legend()\n",
        "\n",
        "plot_history(['loss', 'accuracy'])"
      ],
      "metadata": {
        "execution": {
          "iopub.status.busy": "2023-10-24T12:54:29.315714Z",
          "iopub.execute_input": "2023-10-24T12:54:29.316038Z",
          "iopub.status.idle": "2023-10-24T12:54:29.879282Z",
          "shell.execute_reply.started": "2023-10-24T12:54:29.316011Z",
          "shell.execute_reply": "2023-10-24T12:54:29.878343Z"
        },
        "trusted": true,
        "colab": {
          "base_uri": "https://localhost:8080/",
          "height": 564
        },
        "id": "blBwitShOh0h",
        "outputId": "7948ce5e-a04a-4b51-ece1-5c9b77ad58b9"
      },
      "execution_count": null,
      "outputs": [
        {
          "output_type": "display_data",
          "data": {
            "text/plain": [
              "<Figure size 1200x600 with 2 Axes>"
            ],
            "image/png": "[encoded data removed]"
          },
          "metadata": {}
        }
      ]
    }
  ]
}